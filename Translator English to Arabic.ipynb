{
 "cells": [
  {
   "cell_type": "markdown",
   "id": "7dfd2a47",
   "metadata": {},
   "source": [
    "# TRANSLATOR ENGLISH TO ARABIC"
   ]
  },
  {
   "cell_type": "markdown",
   "id": "cfc74cb3",
   "metadata": {},
   "source": [
    "### This project is to build an automated translator that can convert English text to Arabic while preserving the original formatting"
   ]
  },
  {
   "cell_type": "markdown",
   "id": "209b1f3f",
   "metadata": {},
   "source": [
    "####  Installing & Upgrading required packages"
   ]
  },
  {
   "cell_type": "code",
   "execution_count": 13,
   "id": "ce2a0ce5",
   "metadata": {},
   "outputs": [],
   "source": [
    "!pip install langchain-openai -q"
   ]
  },
  {
   "cell_type": "code",
   "execution_count": 14,
   "id": "3dce654a",
   "metadata": {},
   "outputs": [],
   "source": [
    "!pip install openai python-dotenv -q\n"
   ]
  },
  {
   "cell_type": "code",
   "execution_count": 15,
   "id": "2b1227ac",
   "metadata": {},
   "outputs": [],
   "source": [
    "!pip install --upgrade openai -q"
   ]
  },
  {
   "cell_type": "code",
   "execution_count": 16,
   "id": "f39bd467",
   "metadata": {},
   "outputs": [
    {
     "name": "stdout",
     "output_type": "stream",
     "text": [
      "Name: langchain\n",
      "Version: 0.1.16\n",
      "Summary: Building applications with LLMs through composability\n",
      "Home-page: https://github.com/langchain-ai/langchain\n",
      "Author: \n",
      "Author-email: \n",
      "License: MIT\n",
      "Location: C:\\Users\\rahul\\anaconda3\\Lib\\site-packages\n",
      "Requires: aiohttp, dataclasses-json, jsonpatch, langchain-community, langchain-core, langchain-text-splitters, langsmith, numpy, pydantic, PyYAML, requests, SQLAlchemy, tenacity\n",
      "Required-by: langchain-experimental\n"
     ]
    }
   ],
   "source": [
    "!pip show langchain "
   ]
  },
  {
   "cell_type": "code",
   "execution_count": 17,
   "id": "cde471ee",
   "metadata": {},
   "outputs": [
    {
     "name": "stdout",
     "output_type": "stream",
     "text": [
      "Name: openai\n",
      "Version: 1.25.0\n",
      "Summary: The official Python library for the openai API\n",
      "Home-page: \n",
      "Author: \n",
      "Author-email: OpenAI <support@openai.com>\n",
      "License: \n",
      "Location: C:\\Users\\rahul\\anaconda3\\Lib\\site-packages\n",
      "Requires: anyio, distro, httpx, pydantic, sniffio, tqdm, typing-extensions\n",
      "Required-by: langchain-openai\n"
     ]
    }
   ],
   "source": [
    "!pip show openai"
   ]
  },
  {
   "cell_type": "code",
   "execution_count": 18,
   "id": "53a7a38f",
   "metadata": {
    "scrolled": false
   },
   "outputs": [
    {
     "data": {
      "text/plain": [
       "True"
      ]
     },
     "execution_count": 18,
     "metadata": {},
     "output_type": "execute_result"
    }
   ],
   "source": [
    "# Importing \n",
    "\n",
    "import os\n",
    "from dotenv import load_dotenv,find_dotenv\n",
    "load_dotenv(find_dotenv(),override=True)\n"
   ]
  },
  {
   "cell_type": "code",
   "execution_count": 19,
   "id": "42f51275",
   "metadata": {},
   "outputs": [],
   "source": [
    "# Importing required packages\n",
    "\n",
    "from langchain_openai import ChatOpenAI\n",
    "from langchain.schema import SystemMessage\n",
    "from langchain.chains import LLMChain\n",
    "from langchain.prompts import ChatPromptTemplate, HumanMessagePromptTemplate\n"
   ]
  },
  {
   "cell_type": "code",
   "execution_count": 20,
   "id": "348a5a18",
   "metadata": {},
   "outputs": [],
   "source": [
    "# Initialize the language model\n",
    "\n",
    "llm = ChatOpenAI(model_name='gpt-3.5-turbo', temperature=1)"
   ]
  },
  {
   "cell_type": "code",
   "execution_count": 21,
   "id": "a4dcff2f",
   "metadata": {},
   "outputs": [],
   "source": [
    "# Define the prompt template\n",
    "\n",
    "prompt = ChatPromptTemplate(\n",
    "    input_variables=[\"content\"],\n",
    "    messages=[\n",
    "        SystemMessage(content='You are a translation tool. You receive a string in a markdown format and written in english, and solely return the same string in arabic without losing the original markdown formatting. Your translations are accurate, aiming not to deviate from the original structure, content, writing style and tone.'),\n",
    "        HumanMessagePromptTemplate.from_template(\"{content}\")\n",
    "    ]\n",
    ")"
   ]
  },
  {
   "cell_type": "code",
   "execution_count": 22,
   "id": "47b41c6d",
   "metadata": {},
   "outputs": [],
   "source": [
    "# Create the language model chain\n",
    "\n",
    "chain = LLMChain(\n",
    "    llm=llm,\n",
    "    prompt=prompt,\n",
    "    verbose=False\n",
    ")\n"
   ]
  },
  {
   "cell_type": "code",
   "execution_count": null,
   "id": "c2bd258a",
   "metadata": {
    "scrolled": false
   },
   "outputs": [
    {
     "name": "stdout",
     "output_type": "stream",
     "text": [
      "English word to translate: hello\n",
      "{'content': 'hello', 'text': 'مرحبًا'}\n"
     ]
    }
   ],
   "source": [
    "# Start the interactive translation loop\n",
    "\n",
    "while True:\n",
    "    content = input('English word to translate: ')\n",
    "    if content.lower() in ['quit', 'exit', 'bye']:\n",
    "        print('Goodbye!')\n",
    "        break\n",
    "    \n",
    "    response = chain.invoke({'content': content})\n",
    "    print(response)"
   ]
  },
  {
   "cell_type": "markdown",
   "id": "d1f3589e",
   "metadata": {},
   "source": [
    "Insights:\n",
    "\n",
    "Can adapt this code for other language pairs or modify the prompt template for different use cases.\n",
    "\n",
    "The program runs in an interactive loop, allowing users to input phrases for translation.\n",
    "\n",
    "Typing “quit,” “exit,” or “bye” terminates the loop.\n"
   ]
  }
 ],
 "metadata": {
  "kernelspec": {
   "display_name": "Python 3 (ipykernel)",
   "language": "python",
   "name": "python3"
  },
  "language_info": {
   "codemirror_mode": {
    "name": "ipython",
    "version": 3
   },
   "file_extension": ".py",
   "mimetype": "text/x-python",
   "name": "python",
   "nbconvert_exporter": "python",
   "pygments_lexer": "ipython3",
   "version": "3.11.5"
  }
 },
 "nbformat": 4,
 "nbformat_minor": 5
}
